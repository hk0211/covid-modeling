{
 "cells": [
  {
   "cell_type": "markdown",
   "metadata": {},
   "source": [
    "# COVID analysis based on the number of deceased cases\n",
    "\n",
    "* https://medicalxpress.com/news/2020-04-covid-average-actual-infections-worldwide.html\n",
    "* https://www.thelancet.com/pdfs/journals/laninf/PIIS1473-3099(20)30243-7.pdf"
   ]
  },
  {
   "cell_type": "code",
   "execution_count": 20,
   "metadata": {},
   "outputs": [
    {
     "name": "stdout",
     "output_type": "stream",
     "text": [
      "/Users/hide/_projects/jupyter_notebooks/COVID-19/COVID-modeling\n",
      "  % Total    % Received % Xferd  Average Speed   Time    Time     Time  Current\n",
      "                                 Dload  Upload   Total   Spent    Left  Speed\n",
      "100  104k  100  104k    0     0   121k      0 --:--:-- --:--:-- --:--:--  121k\n"
     ]
    }
   ],
   "source": [
    "!pwd\n",
    "!curl -O https://data.covid19japan.com/summary/latest.json"
   ]
  },
  {
   "cell_type": "code",
   "execution_count": 21,
   "metadata": {},
   "outputs": [],
   "source": [
    "import pandas as pd\n",
    "import json\n",
    "import matplotlib.pyplot as plt\n",
    "from ipywidgets import interact\n",
    "\n",
    "%matplotlib inline"
   ]
  },
  {
   "cell_type": "code",
   "execution_count": 22,
   "metadata": {},
   "outputs": [
    {
     "data": {
      "text/html": [
       "<div>\n",
       "<style scoped>\n",
       "    .dataframe tbody tr th:only-of-type {\n",
       "        vertical-align: middle;\n",
       "    }\n",
       "\n",
       "    .dataframe tbody tr th {\n",
       "        vertical-align: top;\n",
       "    }\n",
       "\n",
       "    .dataframe thead th {\n",
       "        text-align: right;\n",
       "    }\n",
       "</style>\n",
       "<table border=\"1\" class=\"dataframe\">\n",
       "  <thead>\n",
       "    <tr style=\"text-align: right;\">\n",
       "      <th>date</th>\n",
       "      <th>2020-04-13</th>\n",
       "      <th>2020-04-14</th>\n",
       "      <th>2020-04-15</th>\n",
       "    </tr>\n",
       "  </thead>\n",
       "  <tbody>\n",
       "    <tr>\n",
       "      <th>confirmed</th>\n",
       "      <td>276.000000</td>\n",
       "      <td>476.000000</td>\n",
       "      <td>521.000000</td>\n",
       "    </tr>\n",
       "    <tr>\n",
       "      <th>recoveredCumulative</th>\n",
       "      <td>799.000000</td>\n",
       "      <td>853.000000</td>\n",
       "      <td>901.000000</td>\n",
       "    </tr>\n",
       "    <tr>\n",
       "      <th>deceasedCumulative</th>\n",
       "      <td>129.000000</td>\n",
       "      <td>139.000000</td>\n",
       "      <td>178.000000</td>\n",
       "    </tr>\n",
       "    <tr>\n",
       "      <th>criticalCumulative</th>\n",
       "      <td>135.000000</td>\n",
       "      <td>152.000000</td>\n",
       "      <td>168.000000</td>\n",
       "    </tr>\n",
       "    <tr>\n",
       "      <th>testedCumulative</th>\n",
       "      <td>78702.000000</td>\n",
       "      <td>89551.000000</td>\n",
       "      <td>94236.000000</td>\n",
       "    </tr>\n",
       "    <tr>\n",
       "      <th>confirmedCumulative</th>\n",
       "      <td>7726.000000</td>\n",
       "      <td>8202.000000</td>\n",
       "      <td>8723.000000</td>\n",
       "    </tr>\n",
       "    <tr>\n",
       "      <th>exitedCumulative</th>\n",
       "      <td>928.000000</td>\n",
       "      <td>992.000000</td>\n",
       "      <td>1079.000000</td>\n",
       "    </tr>\n",
       "    <tr>\n",
       "      <th>dailyTested</th>\n",
       "      <td>1321.000000</td>\n",
       "      <td>10849.000000</td>\n",
       "      <td>4685.000000</td>\n",
       "    </tr>\n",
       "    <tr>\n",
       "      <th>dailyConfirmed</th>\n",
       "      <td>276.000000</td>\n",
       "      <td>476.000000</td>\n",
       "      <td>521.000000</td>\n",
       "    </tr>\n",
       "    <tr>\n",
       "      <th>dailyDeceased</th>\n",
       "      <td>4.000000</td>\n",
       "      <td>10.000000</td>\n",
       "      <td>39.000000</td>\n",
       "    </tr>\n",
       "    <tr>\n",
       "      <th>dailyConfirmedInTestedRate</th>\n",
       "      <td>0.208933</td>\n",
       "      <td>0.043875</td>\n",
       "      <td>0.111206</td>\n",
       "    </tr>\n",
       "  </tbody>\n",
       "</table>\n",
       "</div>"
      ],
      "text/plain": [
       "date                          2020-04-13    2020-04-14    2020-04-15\n",
       "confirmed                     276.000000    476.000000    521.000000\n",
       "recoveredCumulative           799.000000    853.000000    901.000000\n",
       "deceasedCumulative            129.000000    139.000000    178.000000\n",
       "criticalCumulative            135.000000    152.000000    168.000000\n",
       "testedCumulative            78702.000000  89551.000000  94236.000000\n",
       "confirmedCumulative          7726.000000   8202.000000   8723.000000\n",
       "exitedCumulative              928.000000    992.000000   1079.000000\n",
       "dailyTested                  1321.000000  10849.000000   4685.000000\n",
       "dailyConfirmed                276.000000    476.000000    521.000000\n",
       "dailyDeceased                   4.000000     10.000000     39.000000\n",
       "dailyConfirmedInTestedRate      0.208933      0.043875      0.111206"
      ]
     },
     "execution_count": 22,
     "metadata": {},
     "output_type": "execute_result"
    }
   ],
   "source": [
    "def load_data(filepath):\n",
    "    with open(filepath, 'r') as f:\n",
    "        data = json.loads(f.read())\n",
    "    df = pd.DataFrame(data['daily'])\n",
    "    df['date'] = pd.to_datetime(df['date'])\n",
    "    df.set_index('date', inplace=True)\n",
    "\n",
    "    columns = [col for col in df.columns if 'Avg' not in col]\n",
    "    df = df[:-1][columns]  # cut off the last row\n",
    "    return df\n",
    "\n",
    "def get_daily(df, column_name):\n",
    "    return df[column_name] - df[column_name].shift(1)\n",
    "\n",
    "def append_column(input_df):\n",
    "    df = input_df.copy()\n",
    "    df['exitedCumulative'] = df['recoveredCumulative'] + df['deceasedCumulative']\n",
    "    \n",
    "    df['dailyTested'] = get_daily(df, 'testedCumulative')\n",
    "    df['dailyConfirmed'] = get_daily(df, 'confirmedCumulative')\n",
    "    df['dailyDeceased'] = get_daily(df, 'deceasedCumulative')\n",
    "    \n",
    "    df['dailyConfirmedInTestedRate'] = df['dailyConfirmed'] / df['dailyTested']\n",
    "    return df\n",
    "    \n",
    "df = append_column(load_data('latest.json'))\n",
    "df.tail(3).transpose()"
   ]
  },
  {
   "cell_type": "code",
   "execution_count": 23,
   "metadata": {},
   "outputs": [
    {
     "data": {
      "application/vnd.jupyter.widget-view+json": {
       "model_id": "665f8caaf3144234a7ba43f797e3dad9",
       "version_major": 2,
       "version_minor": 0
      },
      "text/plain": [
       "interactive(children=(IntSlider(value=7, description='n', max=30, min=1), Output()), _dom_classes=('widget-int…"
      ]
     },
     "metadata": {},
     "output_type": "display_data"
    }
   ],
   "source": [
    "# Check testing rate\n",
    "remove_anomaly_df = df[df['dailyConfirmedInTestedRate'] < 1]\n",
    "\n",
    "@interact(n=(1, 30))\n",
    "def plot_rolling_mean(n=7):\n",
    "    fig, ax = plt.subplots(1, 2, figsize=(20, 8))\n",
    "\n",
    "    df[['dailyTested']].plot(ax=ax[0], title=f'Daily Tested (Moving average: {n} days)')\n",
    "    df[['dailyTested']].rolling(n).mean().plot(ax=ax[0], grid=True)\n",
    "    remove_anomaly_df[['dailyConfirmedInTestedRate']].plot(ax=ax[1], title=f'Daily Confirmed/Tested Rate (Moving average: {n} days)')\n",
    "    remove_anomaly_df[['dailyConfirmedInTestedRate']].rolling(n).mean().plot(ax=ax[1], grid=True)"
   ]
  },
  {
   "cell_type": "code",
   "execution_count": 24,
   "metadata": {},
   "outputs": [
    {
     "data": {
      "application/vnd.jupyter.widget-view+json": {
       "model_id": "00218e3ca4f54ac4a73884f511baf9c4",
       "version_major": 2,
       "version_minor": 0
      },
      "text/plain": [
       "interactive(children=(FloatSlider(value=1.6, description='fatality_rate_pct', max=5.0, min=1.0), IntSlider(val…"
      ]
     },
     "metadata": {},
     "output_type": "display_data"
    }
   ],
   "source": [
    "# Perform deceased base analysis\n",
    "from ipywidgets import interact\n",
    "\n",
    "DEFAULT_FATALITY_RATE = 1.6\n",
    "DEFAULT_DETECTION_RATE = 25\n",
    "DEFAULT_DAYS_FROM_TESTED_TO_DEATH = 14\n",
    "\n",
    "def append_estimated_column(input_df, fatality_rate, detection_rate, days_from_tested_to_death):\n",
    "    # Decease base estimated confirmed\n",
    "    df = input_df.copy()\n",
    "\n",
    "    df['estimatedConfirmedCumulative'] = df['deceasedCumulative'].shift(-days_from_tested_to_death) / fatality_rate\n",
    "    df['detectionRate'] = df['confirmedCumulative'] / df['estimatedConfirmedCumulative']\n",
    "    df['estimatedConfirmedCumulativeByDetectionRate'] = df['confirmedCumulative'] / detection_rate\n",
    "    \n",
    "    return df\n",
    "\n",
    "@interact(fatality_rate_pct=(1.0, 5.0), detection_rate_pct=(10, 50), days_from_tested_to_death=(8, 30))\n",
    "def plot_estimated_data(\n",
    "    fatality_rate_pct=DEFAULT_FATALITY_RATE,\n",
    "    detection_rate_pct=DEFAULT_DETECTION_RATE,\n",
    "    days_from_tested_to_death=DEFAULT_DAYS_FROM_TESTED_TO_DEATH\n",
    "\n",
    "):\n",
    "    new_df = append_estimated_column(df, fatality_rate_pct/100, detection_rate_pct/100, days_from_tested_to_death)\n",
    "    \n",
    "    fig, ax = plt.subplots(1, 3, figsize=(24, 8))\n",
    "\n",
    "    new_df[[\n",
    "        'estimatedConfirmedCumulative',\n",
    "        'deceasedCumulative',\n",
    "    ]].plot(ax=ax[0], grid=True, title=f'Estiamted Infected cases calculated from Decease cases\\n* Days from Tested to Deceased ={days_from_tested_to_death} days \\n* Fatality rate = {fatality_rate_pct}%')\n",
    "\n",
    "    new_df[[\n",
    "        'confirmedCumulative',\n",
    "        'estimatedConfirmedCumulative',\n",
    "        'estimatedConfirmedCumulativeByDetectionRate',\n",
    "    ]].plot(ax=ax[1], grid=True, title=f'Estiamted Infected cases calculated by Estimated Detection Rate\\n(detection rate = {detection_rate_pct}%)')\n",
    "\n",
    "    new_df[['detectionRate']].plot(ax=ax[2], grid=True, title='Detection Rate from Estimated Infected cases')"
   ]
  },
  {
   "cell_type": "markdown",
   "metadata": {},
   "source": [
    "# Fit the estimated number to SIR model"
   ]
  },
  {
   "cell_type": "code",
   "execution_count": null,
   "metadata": {},
   "outputs": [],
   "source": [
    "import json\n",
    "import pandas as pd\n",
    "\n",
    "from ddeint import ddeint\n",
    "import numpy as np\n",
    "import pandas as pd\n",
    "import matplotlib.pyplot as plt\n",
    "from matplotlib.ticker import ScalarFormatter\n",
    "from scipy.integrate import odeint\n",
    "\n",
    "import optuna\n",
    "from sklearn.metrics import mean_squared_error, mean_squared_log_error"
   ]
  },
  {
   "cell_type": "code",
   "execution_count": null,
   "metadata": {},
   "outputs": [],
   "source": [
    "# Initial values\n",
    "N = 126_100_000\n",
    "I0 = 62\n",
    "R0 = 0\n",
    "S0 = N - I0 - R0\n",
    "init_state = [S0, I0, R0]\n",
    "\n",
    "def model(Y, t, N, beta, gamma):\n",
    "    '''SIR Model'''\n",
    "    S = Y[0]\n",
    "    I = Y[1]\n",
    "    R = Y[2]\n",
    "    dSdt = -beta * S * I / N\n",
    "    dIdt = beta * S * I / N - gamma * I\n",
    "    dRdt = gamma * I\n",
    "    return np.array([\n",
    "        dSdt, dIdt, dRdt\n",
    "    ])\n",
    "\n",
    "def create_data_range_and_tt(start_date, end_date):\n",
    "    date_range = pd.date_range(start_date, end_date, freq='d')\n",
    "    t_max = len(date_range)\n",
    "    tt = np.linspace(0.0, t_max-1, t_max)\n",
    "    return date_range, tt\n",
    "\n",
    "def objective_with_args(start_date, end_date):\n",
    "    date_range, tt = create_data_range_and_tt(start_date, end_date)\n",
    "\n",
    "    def objective(trial):\n",
    "        beta = trial.suggest_loguniform('beta', 0.001, 0.5)\n",
    "        gamma = trial.suggest_loguniform('gamma', 0.03, 0.2)\n",
    "        yy = odeint(model, init_state, tt, args=(N, beta, gamma))\n",
    "        return (\n",
    "            mean_squared_error(yy[:,1], df.loc[start_date:end_date]['estimatedConfirmedCumulativeByDetectionRate'])\n",
    "        )\n",
    "\n",
    "    return objective"
   ]
  },
  {
   "cell_type": "code",
   "execution_count": null,
   "metadata": {},
   "outputs": [],
   "source": [
    "# Date for training\n",
    "start_date = '2020-02-10'\n",
    "end_date = '2020-04-11'\n",
    "\n",
    "optuna.logging.disable_default_handler()\n",
    "study = optuna.create_study()\n",
    "study.optimize(objective_with_args(start_date, end_date), n_trials=100)\n",
    "print(\"best_value = \", study.best_value)\n",
    "print(\"best_params = \", study.best_params)\n",
    "\n",
    "# Initial values\n",
    "beta = study.best_params['beta']\n",
    "gamma = study.best_params['gamma']\n",
    "\n",
    "print(f'infection rate = {beta}')\n",
    "print(f'days = {1/gamma}')\n",
    "print(f'R0 = {beta/gamma}')"
   ]
  },
  {
   "cell_type": "code",
   "execution_count": null,
   "metadata": {},
   "outputs": [],
   "source": [
    "start_date = '2020-02-10'\n",
    "end_date = '2020-04-16'\n",
    "date_range, tt = create_data_range_and_tt(start_date, end_date)\n",
    "\n",
    "new_yy = odeint(model, init_state, tt, args=(N, beta, gamma))\n",
    "\n",
    "def make_df(yy, date_range):\n",
    "    df = pd.DataFrame(yy[:, 0:3], columns=['pred_S', 'pred_I', 'pred_R'])\n",
    "    df.index = date_range\n",
    "    df['pred_D'] = df['pred_I'].shift(14) * fatality_rate\n",
    "    df['pred_I2'] = df['pred_I'] * detection_rate\n",
    "    return df\n",
    "\n",
    "predicted_df = make_df(new_yy, date_range)\n",
    "df_with_pred = pd.merge(df, predicted_df, how='outer', left_index=True, right_index=True)\n",
    "df_with_pred[[\n",
    "#     'estimatedConfirmedCumulative',\n",
    "#     'estimatedConfirmedCumulativeByDetectionRate',\n",
    "#     'pred_I',\n",
    "    'confirmedCumulative',\n",
    "    'pred_I2',\n",
    "#     'testedCumulative'\n",
    "    ]].plot()"
   ]
  },
  {
   "cell_type": "code",
   "execution_count": null,
   "metadata": {},
   "outputs": [],
   "source": [
    "df_with_pred[[\n",
    "    'deceasedCumulative',\n",
    "    'pred_D'\n",
    "    ]].plot()"
   ]
  },
  {
   "cell_type": "code",
   "execution_count": null,
   "metadata": {},
   "outputs": [],
   "source": [
    "df_with_pred[[\n",
    "    'confirmedCumulative',\n",
    "    'pred_I2',\n",
    "    'testedCumulative'\n",
    "    ]].plot()"
   ]
  },
  {
   "cell_type": "code",
   "execution_count": null,
   "metadata": {},
   "outputs": [],
   "source": []
  }
 ],
 "metadata": {
  "kernelspec": {
   "display_name": "Python 3",
   "language": "python",
   "name": "python3"
  },
  "language_info": {
   "codemirror_mode": {
    "name": "ipython",
    "version": 3
   },
   "file_extension": ".py",
   "mimetype": "text/x-python",
   "name": "python",
   "nbconvert_exporter": "python",
   "pygments_lexer": "ipython3",
   "version": "3.7.1"
  }
 },
 "nbformat": 4,
 "nbformat_minor": 4
}
