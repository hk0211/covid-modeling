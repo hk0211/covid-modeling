{
 "cells": [
  {
   "cell_type": "code",
   "execution_count": 6,
   "metadata": {},
   "outputs": [],
   "source": [
    "import requests\n",
    "from datetime import datetime, timedelta\n",
    "from dateutil.relativedelta import relativedelta\n",
    "from logging import getLogger, basicConfig, INFO, WARN\n",
    "from bs4 import BeautifulSoup\n",
    "import os\n",
    "import re\n",
    "from urllib.parse import urljoin\n",
    "LOGGER = getLogger(__name__)\n",
    "basicConfig(level=WARN)\n",
    "DATE_FORMAT = '%Y%m%d'\n",
    "\n",
    "SEARCH_URL = 'https://www.mhlw.go.jp/stf/houdou/houdou_list_{}.html'\n",
    "DOMAIN = 'https://www.mhlw.go.jp'"
   ]
  },
  {
   "cell_type": "code",
   "execution_count": 52,
   "metadata": {},
   "outputs": [],
   "source": [
    "start = datetime.strptime('20200201', DATE_FORMAT)\n",
    "end = datetime.strptime(\"20200228\", DATE_FORMAT)\n",
    "date_range = [end - timedelta(days=x) for x in range((end-start).days+1)]\n",
    "\n",
    "def get_page_list(yyyymm):\n",
    "    url = SEARCH_URL.format(yyyymm)\n",
    "    r = requests.get(url)\n",
    "    r.raise_for_status()\n",
    "\n",
    "    soup = BeautifulSoup(r.content)\n",
    "    targets = soup.find_all(text=re.compile(\"新型コロナウイルス感染症の現在の状況\"))\n",
    "    link_list = [elem.parent.parent.parent for elem in targets]\n",
    "    \n",
    "    return [link.get('href') for link in link_list]\n",
    "\n",
    "def convert_reiwa(str_):\n",
    "    cleaned_str = (str_\n",
    "                   .replace('令和２年', '2020/')\n",
    "                   .replace('月', '/')\n",
    "                   .replace('日版', '')                   \n",
    "                   .replace('（', '')                   \n",
    "                   .replace('）', '')                   \n",
    "                   .translate(str.maketrans({chr(0xFF01 + i): chr(0x21 + i) for i in range(94)}))\n",
    "                  )\n",
    "    return datetime.strptime(cleaned_str, '%Y/%m/%d')"
   ]
  },
  {
   "cell_type": "code",
   "execution_count": 56,
   "metadata": {},
   "outputs": [],
   "source": [
    "output = get_page_list('202004')"
   ]
  },
  {
   "cell_type": "code",
   "execution_count": 58,
   "metadata": {},
   "outputs": [
    {
     "data": {
      "text/plain": [
       "[datetime.datetime(2020, 5, 6, 0, 0), datetime.datetime(2020, 5, 1, 0, 0)]"
      ]
     },
     "execution_count": 58,
     "metadata": {},
     "output_type": "execute_result"
    }
   ],
   "source": [
    "strs = \"（令和２年5月6日版）\", \"（令和２年５月１日版）\"\n",
    "[convert_reiwa(str_) for str_ in strs]"
   ]
  }
 ],
 "metadata": {
  "kernelspec": {
   "display_name": "Python 3",
   "language": "python",
   "name": "python3"
  },
  "language_info": {
   "codemirror_mode": {
    "name": "ipython",
    "version": 3
   },
   "file_extension": ".py",
   "mimetype": "text/x-python",
   "name": "python",
   "nbconvert_exporter": "python",
   "pygments_lexer": "ipython3",
   "version": "3.7.1"
  }
 },
 "nbformat": 4,
 "nbformat_minor": 4
}
